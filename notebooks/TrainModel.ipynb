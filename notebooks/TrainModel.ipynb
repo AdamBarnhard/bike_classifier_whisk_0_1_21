{
 "cells": [
  {
   "cell_type": "code",
   "execution_count": 1,
   "metadata": {},
   "outputs": [],
   "source": [
    "# Load the \"autoreload\" extension. Prior to executing code, modules are reloaded. \n",
    "# There's no need to restart jupyter notebook if you modify code in the `src` directory.\n",
    "# https://ipython.org/ipython-doc/3/config/extensions/autoreload.html\n",
    "%load_ext autoreload\n",
    "\n",
    "# OPTIONAL: always reload modules so that as you change code in src, it gets loaded\n",
    "%autoreload 2\n"
   ]
  },
  {
   "cell_type": "code",
   "execution_count": 5,
   "metadata": {},
   "outputs": [],
   "source": [
    "# import the necessary packages\n",
    "from tensorflow.keras.preprocessing.image import ImageDataGenerator\n",
    "from tensorflow.keras.applications import MobileNetV2\n",
    "from tensorflow.keras.layers import AveragePooling2D\n",
    "from tensorflow.keras.layers import Dropout\n",
    "from tensorflow.keras.layers import Flatten\n",
    "from tensorflow.keras.layers import Dense\n",
    "from tensorflow.keras.layers import Input\n",
    "from tensorflow.keras.models import Model\n",
    "from tensorflow.keras.optimizers import Adam\n",
    "from tensorflow.keras.applications.mobilenet_v2 import preprocess_input\n",
    "from tensorflow.keras.preprocessing.image import img_to_array\n",
    "from tensorflow.keras.preprocessing.image import load_img\n",
    "from tensorflow.keras.models import load_model\n",
    "from tensorflow.keras.utils import to_categorical\n",
    "from sklearn.preprocessing import LabelBinarizer\n",
    "from sklearn.model_selection import train_test_split\n",
    "from sklearn.metrics import classification_report\n",
    "from imutils import paths\n",
    "import matplotlib.pyplot as plt\n",
    "import numpy as np\n",
    "import argparse\n",
    "import os\n",
    "\n",
    "import bike_classifier_whisk_0_1_21"
   ]
  },
  {
   "cell_type": "code",
   "execution_count": 6,
   "metadata": {},
   "outputs": [],
   "source": [
    "# This code is heavily adapted from Adrian's code on pyimagesearch\n",
    "# Adrian Rosebrock, \"COVID-19: Face Mask Detector with OpenCV, Keras/TensorFlow, and Deep Learning\", PyImageSearch,\n",
    "# https://www.pyimagesearch.com/2020/05/04/covid-19-face-mask-detector-with-opencv-keras-tensorflow-and-deep-learning/, accessed on 4 May 2020"
   ]
  },
  {
   "cell_type": "code",
   "execution_count": 7,
   "metadata": {},
   "outputs": [],
   "source": [
    "################################################################\n",
    "#### Import Images\n",
    "################################################################"
   ]
  },
  {
   "cell_type": "code",
   "execution_count": 9,
   "metadata": {},
   "outputs": [
    {
     "name": "stdout",
     "output_type": "stream",
     "text": [
      "[INFO] loading images...\n"
     ]
    }
   ],
   "source": [
    "# grab the list of images in our dataset directory\n",
    "print(\"[INFO] loading images...\")\n",
    "#imagePaths = list(paths.list_images(args[\"dataset\"]))\n",
    "imagePaths = list(paths.list_images(bike_classifier_whisk_0_1_21.project.data_dir / 'raw/Road')) + \\\n",
    "             list(paths.list_images(bike_classifier_whisk_0_1_21.project.data_dir / 'raw/Mountain'))\n",
    "data = []\n",
    "labels = []"
   ]
  },
  {
   "cell_type": "code",
   "execution_count": 11,
   "metadata": {},
   "outputs": [
    {
     "name": "stderr",
     "output_type": "stream",
     "text": [
      "/Users/adambarnhard/dev/whisk_testing/bike_classifier_whisk_0_1_21/venv/lib/python3.8/site-packages/PIL/Image.py:959: UserWarning: Palette images with Transparency expressed in bytes should be converted to RGBA images\n",
      "  warnings.warn(\n"
     ]
    }
   ],
   "source": [
    "# loop over the image paths\n",
    "for imagePath in imagePaths:\n",
    "    # extract the class label from the filename\n",
    "    label = imagePath.split(os.path.sep)[-2]\n",
    "\n",
    "    # load the input image (224x224) and preprocess it\n",
    "    image = load_img(imagePath, target_size=(224, 224))\n",
    "    image = img_to_array(image)\n",
    "    image = preprocess_input(image)\n",
    "\n",
    "    # update the data and labels lists, respectively\n",
    "    data.append(image)\n",
    "    labels.append(label)\n",
    "\n",
    "# convert the data and labels to NumPy arrays\n",
    "data = np.array(data, dtype=\"float32\")\n",
    "labels = np.array(labels)\n",
    "\n",
    "# perform one-hot encoding on the labels\n",
    "lb = LabelBinarizer()\n",
    "labels = lb.fit_transform(labels)\n",
    "labels = to_categorical(labels)"
   ]
  },
  {
   "cell_type": "code",
   "execution_count": 12,
   "metadata": {},
   "outputs": [],
   "source": [
    "################################################################\n",
    "#### Prep for Model Training\n",
    "################################################################"
   ]
  },
  {
   "cell_type": "code",
   "execution_count": 13,
   "metadata": {},
   "outputs": [],
   "source": [
    "# partition the data into training and testing splits using 75% of\n",
    "# the data for training and the remaining 25% for testing\n",
    "(trainX, testX, trainY, testY) = train_test_split(data, labels,\n",
    "    test_size=0.20, stratify=labels, random_state=42)"
   ]
  },
  {
   "cell_type": "code",
   "execution_count": 14,
   "metadata": {},
   "outputs": [],
   "source": [
    "# construct the training image generator for data augmentation\n",
    "aug = ImageDataGenerator(\n",
    "    rotation_range=20,\n",
    "    zoom_range=0.15,\n",
    "    width_shift_range=0.2,\n",
    "    height_shift_range=0.2,\n",
    "    shear_range=0.15,\n",
    "    horizontal_flip=True,\n",
    "    fill_mode=\"nearest\")"
   ]
  },
  {
   "cell_type": "code",
   "execution_count": 15,
   "metadata": {},
   "outputs": [
    {
     "name": "stdout",
     "output_type": "stream",
     "text": [
      "WARNING:tensorflow:`input_shape` is undefined or non-square, or `rows` is not in [96, 128, 160, 192, 224]. Weights for input shape (224, 224) will be loaded as the default.\n"
     ]
    }
   ],
   "source": [
    "# load the MobileNetV2 network, ensuring the head FC layer sets are\n",
    "# left off\n",
    "baseModel = MobileNetV2(weights=\"imagenet\", include_top=False,\n",
    "    input_tensor=Input(shape=(224, 224, 3)))"
   ]
  },
  {
   "cell_type": "code",
   "execution_count": 16,
   "metadata": {},
   "outputs": [],
   "source": [
    "# construct the head of the model that will be placed on top of the\n",
    "# the base model\n",
    "headModel = baseModel.output\n",
    "headModel = AveragePooling2D(pool_size=(7, 7))(headModel)\n",
    "headModel = Flatten(name=\"flatten\")(headModel)\n",
    "headModel = Dense(128, activation=\"relu\")(headModel)\n",
    "headModel = Dropout(0.5)(headModel)\n",
    "headModel = Dense(2, activation=\"softmax\")(headModel)"
   ]
  },
  {
   "cell_type": "code",
   "execution_count": 17,
   "metadata": {},
   "outputs": [],
   "source": [
    "# place the head FC model on top of the base model (this will become\n",
    "# the actual model we will train)\n",
    "model = Model(inputs=baseModel.input, outputs=headModel)"
   ]
  },
  {
   "cell_type": "code",
   "execution_count": 18,
   "metadata": {},
   "outputs": [],
   "source": [
    "# loop over all layers in the base model and freeze them so they will\n",
    "# *not* be updated during the first training process\n",
    "for layer in baseModel.layers:\n",
    "    layer.trainable = False"
   ]
  },
  {
   "cell_type": "code",
   "execution_count": 19,
   "metadata": {},
   "outputs": [],
   "source": [
    "################################################################\n",
    "#### Model Training\n",
    "################################################################"
   ]
  },
  {
   "cell_type": "code",
   "execution_count": 20,
   "metadata": {},
   "outputs": [
    {
     "name": "stdout",
     "output_type": "stream",
     "text": [
      "[INFO] compiling model...\n"
     ]
    }
   ],
   "source": [
    "# initialize the initial learning rate, number of epochs to train for,\n",
    "# and batch size\n",
    "INIT_LR = 1e-4\n",
    "EPOCHS = 20\n",
    "BS = 32\n",
    "\n",
    "# compile our model\n",
    "print(\"[INFO] compiling model...\")\n",
    "opt = Adam(lr=INIT_LR, decay=INIT_LR / EPOCHS)\n",
    "model.compile(loss=\"binary_crossentropy\", optimizer=opt,\n",
    "    metrics=[\"accuracy\"])"
   ]
  },
  {
   "cell_type": "code",
   "execution_count": 21,
   "metadata": {},
   "outputs": [
    {
     "name": "stdout",
     "output_type": "stream",
     "text": [
      "[INFO] training head...\n",
      "Epoch 1/20\n",
      "11/11 [==============================] - 10s 906ms/step - loss: 0.8094 - accuracy: 0.5710 - val_loss: 0.4672 - val_accuracy: 0.8681\n",
      "Epoch 2/20\n",
      "11/11 [==============================] - 10s 890ms/step - loss: 0.6900 - accuracy: 0.6084 - val_loss: 0.4019 - val_accuracy: 0.9011\n",
      "Epoch 3/20\n",
      "11/11 [==============================] - 9s 792ms/step - loss: 0.5255 - accuracy: 0.7530 - val_loss: 0.3654 - val_accuracy: 0.9121\n",
      "Epoch 4/20\n",
      "11/11 [==============================] - 9s 802ms/step - loss: 0.4694 - accuracy: 0.7741 - val_loss: 0.3276 - val_accuracy: 0.9231\n",
      "Epoch 5/20\n",
      "11/11 [==============================] - 10s 871ms/step - loss: 0.4805 - accuracy: 0.7380 - val_loss: 0.2968 - val_accuracy: 0.9231\n",
      "Epoch 6/20\n",
      "11/11 [==============================] - 10s 877ms/step - loss: 0.4019 - accuracy: 0.8102 - val_loss: 0.2737 - val_accuracy: 0.9231\n",
      "Epoch 7/20\n",
      "11/11 [==============================] - 10s 904ms/step - loss: 0.3548 - accuracy: 0.8343 - val_loss: 0.2566 - val_accuracy: 0.9121\n",
      "Epoch 8/20\n",
      "11/11 [==============================] - 10s 867ms/step - loss: 0.3098 - accuracy: 0.8795 - val_loss: 0.2430 - val_accuracy: 0.9121\n",
      "Epoch 9/20\n",
      "11/11 [==============================] - 10s 868ms/step - loss: 0.2867 - accuracy: 0.9006 - val_loss: 0.2315 - val_accuracy: 0.9231\n",
      "Epoch 10/20\n",
      "11/11 [==============================] - 10s 874ms/step - loss: 0.2870 - accuracy: 0.8886 - val_loss: 0.2199 - val_accuracy: 0.9341\n",
      "Epoch 11/20\n",
      "11/11 [==============================] - 9s 862ms/step - loss: 0.2676 - accuracy: 0.9066 - val_loss: 0.2105 - val_accuracy: 0.9231\n",
      "Epoch 12/20\n",
      "11/11 [==============================] - 9s 843ms/step - loss: 0.2618 - accuracy: 0.9066 - val_loss: 0.2049 - val_accuracy: 0.9011\n",
      "Epoch 13/20\n",
      "11/11 [==============================] - 10s 868ms/step - loss: 0.2040 - accuracy: 0.9347 - val_loss: 0.1922 - val_accuracy: 0.9341\n",
      "Epoch 14/20\n",
      "11/11 [==============================] - 10s 898ms/step - loss: 0.2335 - accuracy: 0.9217 - val_loss: 0.1857 - val_accuracy: 0.9341\n",
      "Epoch 15/20\n",
      "11/11 [==============================] - 9s 847ms/step - loss: 0.2117 - accuracy: 0.9367 - val_loss: 0.1790 - val_accuracy: 0.9341\n",
      "Epoch 16/20\n",
      "11/11 [==============================] - 9s 854ms/step - loss: 0.2031 - accuracy: 0.9458 - val_loss: 0.1704 - val_accuracy: 0.9341\n",
      "Epoch 17/20\n",
      "11/11 [==============================] - 9s 857ms/step - loss: 0.1998 - accuracy: 0.9337 - val_loss: 0.1635 - val_accuracy: 0.9451\n",
      "Epoch 18/20\n",
      "11/11 [==============================] - 9s 857ms/step - loss: 0.1812 - accuracy: 0.9578 - val_loss: 0.1612 - val_accuracy: 0.9451\n",
      "Epoch 19/20\n",
      "11/11 [==============================] - 10s 871ms/step - loss: 0.1821 - accuracy: 0.9488 - val_loss: 0.1530 - val_accuracy: 0.9560\n",
      "Epoch 20/20\n",
      "11/11 [==============================] - 9s 824ms/step - loss: 0.1508 - accuracy: 0.9548 - val_loss: 0.1511 - val_accuracy: 0.9451\n"
     ]
    }
   ],
   "source": [
    "# train the head of the network\n",
    "print(\"[INFO] training head...\")\n",
    "H = model.fit(\n",
    "    aug.flow(trainX, trainY, batch_size=BS),\n",
    "    steps_per_epoch=len(trainX) // BS,\n",
    "    validation_data=(testX, testY),\n",
    "    validation_steps=len(testX) // BS,\n",
    "    epochs=EPOCHS)"
   ]
  },
  {
   "cell_type": "code",
   "execution_count": 22,
   "metadata": {},
   "outputs": [
    {
     "name": "stdout",
     "output_type": "stream",
     "text": [
      "[INFO] saving bike classifier model...\n"
     ]
    }
   ],
   "source": [
    "# serialize the model to disk\n",
    "print(\"[INFO] saving bike classifier model...\")\n",
    "model.save(bike_classifier_whisk_0_1_21.project.artifacts_dir / 'bike_classification_model.model', save_format=\"h5\")"
   ]
  },
  {
   "cell_type": "code",
   "execution_count": 23,
   "metadata": {},
   "outputs": [],
   "source": [
    "################################################################\n",
    "#### Validation\n",
    "################################################################"
   ]
  },
  {
   "cell_type": "code",
   "execution_count": 24,
   "metadata": {},
   "outputs": [],
   "source": [
    "# If you've already trained the model, import here\n",
    "#model = load_model('../models/bike_classification_model.model')"
   ]
  },
  {
   "cell_type": "code",
   "execution_count": 25,
   "metadata": {},
   "outputs": [
    {
     "name": "stdout",
     "output_type": "stream",
     "text": [
      "[INFO] evaluating network...\n"
     ]
    }
   ],
   "source": [
    "# make predictions on the testing set\n",
    "print(\"[INFO] evaluating network...\")\n",
    "predIdxs = model.predict(testX, batch_size=BS)"
   ]
  },
  {
   "cell_type": "code",
   "execution_count": 26,
   "metadata": {},
   "outputs": [],
   "source": [
    "# for each image in the testing set we need to find the index of the\n",
    "# label with corresponding largest predicted probability\n",
    "predIdxs = np.argmax(predIdxs, axis=1)"
   ]
  },
  {
   "cell_type": "code",
   "execution_count": 27,
   "metadata": {},
   "outputs": [
    {
     "name": "stdout",
     "output_type": "stream",
     "text": [
      "              precision    recall  f1-score   support\n",
      "\n",
      "    Mountain       0.92      0.98      0.95        50\n",
      "        Road       0.97      0.90      0.94        41\n",
      "\n",
      "    accuracy                           0.95        91\n",
      "   macro avg       0.95      0.94      0.94        91\n",
      "weighted avg       0.95      0.95      0.94        91\n",
      "\n"
     ]
    }
   ],
   "source": [
    "# show a nicely formatted classification report\n",
    "print(classification_report(testY.argmax(axis=1), predIdxs,\n",
    "    target_names=lb.classes_))"
   ]
  },
  {
   "cell_type": "code",
   "execution_count": 28,
   "metadata": {},
   "outputs": [
    {
     "data": {
      "image/png": "[encoded data removed]",
      "text/plain": [
       "<Figure size 432x288 with 1 Axes>"
      ]
     },
     "metadata": {},
     "output_type": "display_data"
    }
   ],
   "source": [
    "N = EPOCHS\n",
    "plt.style.use(\"ggplot\")\n",
    "plt.figure()\n",
    "plt.plot(np.arange(0, N), H.history[\"loss\"], label=\"train_loss\")\n",
    "plt.plot(np.arange(0, N), H.history[\"val_loss\"], label=\"val_loss\")\n",
    "plt.plot(np.arange(0, N), H.history[\"accuracy\"], label=\"train_acc\")\n",
    "plt.plot(np.arange(0, N), H.history[\"val_accuracy\"], label=\"val_acc\")\n",
    "plt.title(\"Training Loss and Accuracy\")\n",
    "plt.xlabel(\"Epoch #\")\n",
    "plt.ylabel(\"Loss/Accuracy\")\n",
    "plt.legend(loc=\"lower left\")\n",
    "plt.show()"
   ]
  },
  {
   "cell_type": "code",
   "execution_count": null,
   "metadata": {},
   "outputs": [],
   "source": []
  }
 ],
 "metadata": {
  "kernelspec": {
   "display_name": "bike_classifier_whisk_0_1_21",
   "language": "python",
   "name": "bike_classifier_whisk_0_1_21"
  },
  "language_info": {
   "codemirror_mode": {
    "name": "ipython",
    "version": 3
   },
   "file_extension": ".py",
   "mimetype": "text/x-python",
   "name": "python",
   "nbconvert_exporter": "python",
   "pygments_lexer": "ipython3",
   "version": "3.8.2"
  }
 },
 "nbformat": 4,
 "nbformat_minor": 4
}
